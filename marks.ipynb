{
 "cells": [
  {
   "cell_type": "code",
   "execution_count": 3,
   "metadata": {},
   "outputs": [
    {
     "name": "stdin",
     "output_type": "stream",
     "text": [
      "Enter the number of attempts:  3\n"
     ]
    },
    {
     "name": "stdout",
     "output_type": "stream",
     "text": [
      "You have already atempted!!!\n"
     ]
    }
   ],
   "source": [
    "a=int(input(\"Enter the number of attempts: \"))\n",
    "b=0\n",
    "score=0\n",
    "# Initialising flags\n",
    "aflag=True\n",
    "eflag=True\n",
    "mflag=True\n",
    "gflag=True\n",
    "\n",
    "if (a==1):\n",
    "    \n",
    "    while (b!=5):\n",
    "        print(\"\\n1. Aptitude \\n2. English \\n3. Math \\n4. GK \\n5. Exit \\n\")\n",
    "        b=int(input(\"Enter your choice: \"))\n",
    "        \n",
    "        if(b>0 and b<6):\n",
    "            if(b==1 and aflag):\n",
    "                b1=int(input(\"How much is 5 times 5? \"))\n",
    "                if(b1==25):\n",
    "                    score+=10\n",
    "                aflag=False\n",
    "\n",
    "            elif(b==2 and eflag):\n",
    "                b2=int(input(\"How many vowels are present in english? \"))\n",
    "                if(b2==5):\n",
    "                    score+=10\n",
    "                eflag=False\n",
    "\n",
    "            elif(b==3 and mflag):\n",
    "                b3=int(input(\"How much is cube of 3? \"))\n",
    "                if(b3==27):\n",
    "                    score+=10\n",
    "                mflag=False\n",
    "\n",
    "            elif(b==4 and gflag):\n",
    "                b4=int(input(\"Enter the number of states in India. \"))\n",
    "                if (b4==28):\n",
    "                    score+=10\n",
    "                gflag=False\n",
    "\n",
    "        else:\n",
    "            print(\"INVALID INPUT!!!\")\n",
    "            \n",
    "    #Checking for how much bonus should be given\n",
    "    if(score==20):\n",
    "        score+=2\n",
    "        print(f'You have earned a bonus of 2 marks and score is {score} out of 50.')\n",
    "    elif(score==30):\n",
    "        score+=5\n",
    "        print(f'You have earned a bonus of 5 marks and score is {score} out of 50.')\n",
    "    elif(score==40):\n",
    "        score+=10\n",
    "        print(f'You have earned a bonus of 10 marks and score is {score} out of 50. ')\n",
    "    \n",
    "    #Printing result with comment!\n",
    "    if(score>=40):\n",
    "        print(\"You are a genius.\")\n",
    "    elif(score>=30):\n",
    "        print(\"You are intelligent.\")\n",
    "    elif(score>=20):\n",
    "        print(\"Your IQ level is average.\")\n",
    "    elif(score>=10):\n",
    "        print(\"Your IQ level is below average.\")\n",
    "    else:\n",
    "        print(\"You need to re-appear the test.\")\n",
    " \n",
    "#Preventing multiple attempts\n",
    "elif (a>1):\n",
    "    print(\"You have already atempted!!!\")\n",
    "else:\n",
    "    print(\"INVALID INPUT!!!\")\n",
    "        \n"
   ]
  },
  {
   "cell_type": "code",
   "execution_count": null,
   "metadata": {},
   "outputs": [],
   "source": []
  }
 ],
 "metadata": {
  "kernelspec": {
   "display_name": "Python 3",
   "language": "python",
   "name": "python3"
  },
  "language_info": {
   "codemirror_mode": {
    "name": "ipython",
    "version": 3
   },
   "file_extension": ".py",
   "mimetype": "text/x-python",
   "name": "python",
   "nbconvert_exporter": "python",
   "pygments_lexer": "ipython3",
   "version": "3.6.7"
  }
 },
 "nbformat": 4,
 "nbformat_minor": 4
}
